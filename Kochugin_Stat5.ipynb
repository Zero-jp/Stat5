{
  "nbformat": 4,
  "nbformat_minor": 0,
  "metadata": {
    "colab": {
      "name": "Kochugin_Stat5.ipynb",
      "provenance": []
    },
    "kernelspec": {
      "name": "python3",
      "display_name": "Python 3"
    },
    "language_info": {
      "name": "python"
    }
  },
  "cells": [
    {
      "cell_type": "markdown",
      "source": [
        "## Задача 1"
      ],
      "metadata": {
        "id": "RTIXIWylY_ts"
      }
    },
    {
      "cell_type": "code",
      "execution_count": 4,
      "metadata": {
        "colab": {
          "base_uri": "https://localhost:8080/",
          "height": 363
        },
        "id": "mhiXhNYT_fYw",
        "outputId": "cde8092a-2de6-4675-df2e-8cf3822c9742"
      },
      "outputs": [
        {
          "output_type": "execute_result",
          "data": {
            "text/html": [
              "\n",
              "  <div id=\"df-cd86e2e3-2fcc-458d-bd06-09ebb5c66172\">\n",
              "    <div class=\"colab-df-container\">\n",
              "      <div>\n",
              "<style scoped>\n",
              "    .dataframe tbody tr th:only-of-type {\n",
              "        vertical-align: middle;\n",
              "    }\n",
              "\n",
              "    .dataframe tbody tr th {\n",
              "        vertical-align: top;\n",
              "    }\n",
              "\n",
              "    .dataframe thead th {\n",
              "        text-align: right;\n",
              "    }\n",
              "</style>\n",
              "<table border=\"1\" class=\"dataframe\">\n",
              "  <thead>\n",
              "    <tr style=\"text-align: right;\">\n",
              "      <th></th>\n",
              "      <th>Жуки</th>\n",
              "      <th>Картофелины</th>\n",
              "    </tr>\n",
              "  </thead>\n",
              "  <tbody>\n",
              "    <tr>\n",
              "      <th>0</th>\n",
              "      <td>2</td>\n",
              "      <td>10</td>\n",
              "    </tr>\n",
              "    <tr>\n",
              "      <th>1</th>\n",
              "      <td>1</td>\n",
              "      <td>5</td>\n",
              "    </tr>\n",
              "    <tr>\n",
              "      <th>2</th>\n",
              "      <td>1</td>\n",
              "      <td>2</td>\n",
              "    </tr>\n",
              "    <tr>\n",
              "      <th>3</th>\n",
              "      <td>5</td>\n",
              "      <td>6</td>\n",
              "    </tr>\n",
              "    <tr>\n",
              "      <th>4</th>\n",
              "      <td>5</td>\n",
              "      <td>0</td>\n",
              "    </tr>\n",
              "    <tr>\n",
              "      <th>5</th>\n",
              "      <td>2</td>\n",
              "      <td>0</td>\n",
              "    </tr>\n",
              "    <tr>\n",
              "      <th>6</th>\n",
              "      <td>0</td>\n",
              "      <td>4</td>\n",
              "    </tr>\n",
              "    <tr>\n",
              "      <th>7</th>\n",
              "      <td>1</td>\n",
              "      <td>3</td>\n",
              "    </tr>\n",
              "    <tr>\n",
              "      <th>8</th>\n",
              "      <td>0</td>\n",
              "      <td>4</td>\n",
              "    </tr>\n",
              "    <tr>\n",
              "      <th>9</th>\n",
              "      <td>4</td>\n",
              "      <td>5</td>\n",
              "    </tr>\n",
              "  </tbody>\n",
              "</table>\n",
              "</div>\n",
              "      <button class=\"colab-df-convert\" onclick=\"convertToInteractive('df-cd86e2e3-2fcc-458d-bd06-09ebb5c66172')\"\n",
              "              title=\"Convert this dataframe to an interactive table.\"\n",
              "              style=\"display:none;\">\n",
              "        \n",
              "  <svg xmlns=\"http://www.w3.org/2000/svg\" height=\"24px\"viewBox=\"0 0 24 24\"\n",
              "       width=\"24px\">\n",
              "    <path d=\"M0 0h24v24H0V0z\" fill=\"none\"/>\n",
              "    <path d=\"M18.56 5.44l.94 2.06.94-2.06 2.06-.94-2.06-.94-.94-2.06-.94 2.06-2.06.94zm-11 1L8.5 8.5l.94-2.06 2.06-.94-2.06-.94L8.5 2.5l-.94 2.06-2.06.94zm10 10l.94 2.06.94-2.06 2.06-.94-2.06-.94-.94-2.06-.94 2.06-2.06.94z\"/><path d=\"M17.41 7.96l-1.37-1.37c-.4-.4-.92-.59-1.43-.59-.52 0-1.04.2-1.43.59L10.3 9.45l-7.72 7.72c-.78.78-.78 2.05 0 2.83L4 21.41c.39.39.9.59 1.41.59.51 0 1.02-.2 1.41-.59l7.78-7.78 2.81-2.81c.8-.78.8-2.07 0-2.86zM5.41 20L4 18.59l7.72-7.72 1.47 1.35L5.41 20z\"/>\n",
              "  </svg>\n",
              "      </button>\n",
              "      \n",
              "  <style>\n",
              "    .colab-df-container {\n",
              "      display:flex;\n",
              "      flex-wrap:wrap;\n",
              "      gap: 12px;\n",
              "    }\n",
              "\n",
              "    .colab-df-convert {\n",
              "      background-color: #E8F0FE;\n",
              "      border: none;\n",
              "      border-radius: 50%;\n",
              "      cursor: pointer;\n",
              "      display: none;\n",
              "      fill: #1967D2;\n",
              "      height: 32px;\n",
              "      padding: 0 0 0 0;\n",
              "      width: 32px;\n",
              "    }\n",
              "\n",
              "    .colab-df-convert:hover {\n",
              "      background-color: #E2EBFA;\n",
              "      box-shadow: 0px 1px 2px rgba(60, 64, 67, 0.3), 0px 1px 3px 1px rgba(60, 64, 67, 0.15);\n",
              "      fill: #174EA6;\n",
              "    }\n",
              "\n",
              "    [theme=dark] .colab-df-convert {\n",
              "      background-color: #3B4455;\n",
              "      fill: #D2E3FC;\n",
              "    }\n",
              "\n",
              "    [theme=dark] .colab-df-convert:hover {\n",
              "      background-color: #434B5C;\n",
              "      box-shadow: 0px 1px 3px 1px rgba(0, 0, 0, 0.15);\n",
              "      filter: drop-shadow(0px 1px 2px rgba(0, 0, 0, 0.3));\n",
              "      fill: #FFFFFF;\n",
              "    }\n",
              "  </style>\n",
              "\n",
              "      <script>\n",
              "        const buttonEl =\n",
              "          document.querySelector('#df-cd86e2e3-2fcc-458d-bd06-09ebb5c66172 button.colab-df-convert');\n",
              "        buttonEl.style.display =\n",
              "          google.colab.kernel.accessAllowed ? 'block' : 'none';\n",
              "\n",
              "        async function convertToInteractive(key) {\n",
              "          const element = document.querySelector('#df-cd86e2e3-2fcc-458d-bd06-09ebb5c66172');\n",
              "          const dataTable =\n",
              "            await google.colab.kernel.invokeFunction('convertToInteractive',\n",
              "                                                     [key], {});\n",
              "          if (!dataTable) return;\n",
              "\n",
              "          const docLinkHtml = 'Like what you see? Visit the ' +\n",
              "            '<a target=\"_blank\" href=https://colab.research.google.com/notebooks/data_table.ipynb>data table notebook</a>'\n",
              "            + ' to learn more about interactive tables.';\n",
              "          element.innerHTML = '';\n",
              "          dataTable['output_type'] = 'display_data';\n",
              "          await google.colab.output.renderOutput(dataTable, element);\n",
              "          const docLink = document.createElement('div');\n",
              "          docLink.innerHTML = docLinkHtml;\n",
              "          element.appendChild(docLink);\n",
              "        }\n",
              "      </script>\n",
              "    </div>\n",
              "  </div>\n",
              "  "
            ],
            "text/plain": [
              "   Жуки  Картофелины\n",
              "0     2           10\n",
              "1     1            5\n",
              "2     1            2\n",
              "3     5            6\n",
              "4     5            0\n",
              "5     2            0\n",
              "6     0            4\n",
              "7     1            3\n",
              "8     0            4\n",
              "9     4            5"
            ]
          },
          "metadata": {},
          "execution_count": 4
        }
      ],
      "source": [
        "import pandas as pd\n",
        "df = pd.read_excel('sample_data/data.xls', sheet_name='Задача 1')\n",
        "df"
      ]
    },
    {
      "cell_type": "markdown",
      "source": [
        "Первым делом сформулируем гипотезу: Никодим удивится, но колличество жуков на одном кусте картошки и крупных клубней никак не связано.\n",
        "\n",
        "Теперь найдём выборочное среднее:"
      ],
      "metadata": {
        "id": "TaFCbLMaZKEi"
      }
    },
    {
      "cell_type": "code",
      "source": [
        "bugs_mid = df['Жуки'].sum()/df.shape[0]\n",
        "patato_mid = df['Картофелины'].sum()/df.shape[0]\n",
        "print('Жуки:', bugs_mid, 'Картофелины:', patato_mid)"
      ],
      "metadata": {
        "colab": {
          "base_uri": "https://localhost:8080/"
        },
        "id": "ODSp-4GRZuPB",
        "outputId": "8d06c55a-8c81-45b6-be92-4ffec2e10a34"
      },
      "execution_count": 5,
      "outputs": [
        {
          "output_type": "stream",
          "name": "stdout",
          "text": [
            "Жуки: 2.1 Картофелины: 3.9\n"
          ]
        }
      ]
    },
    {
      "cell_type": "markdown",
      "source": [
        "Теперь найдём выборочную ковариацию(повторяющихся строк нет, поэтому можно упростить формулу):"
      ],
      "metadata": {
        "id": "mUy2b5-sbpI6"
      }
    },
    {
      "cell_type": "code",
      "source": [
        "k_chis = 0\n",
        "for i in range(df.shape[0]):\n",
        "  k_chis += (df['Жуки'][i] - bugs_mid)*(df['Картофелины'][i] - patato_mid)\n",
        "k = k_chis/df.shape[0]\n",
        "k"
      ],
      "metadata": {
        "colab": {
          "base_uri": "https://localhost:8080/"
        },
        "id": "hS54EvJbaleW",
        "outputId": "80a67f61-ec52-4c40-f0ef-450d5706daa7"
      },
      "execution_count": 6,
      "outputs": [
        {
          "output_type": "execute_result",
          "data": {
            "text/plain": [
              "-0.18999999999999986"
            ]
          },
          "metadata": {},
          "execution_count": 6
        }
      ]
    },
    {
      "cell_type": "markdown",
      "source": [
        "Найдем выборочные средние квадратические отклонения:"
      ],
      "metadata": {
        "id": "7gLu3n8ZRX99"
      }
    },
    {
      "cell_type": "code",
      "source": [
        "x = y = 0\n",
        "for i in range(df.shape[0]):\n",
        "  x += (df['Жуки'][i] - bugs_mid)**2\n",
        "D_x = (x/df.shape[0])**(1/2)\n",
        "for i in range(df.shape[0]):\n",
        "  y += (df['Картофелины'][i] - patato_mid)**2\n",
        "D_y = (y/df.shape[0])**(1/2)\n",
        "print('Жуки:', D_x, 'Картофелины:', D_y)"
      ],
      "metadata": {
        "colab": {
          "base_uri": "https://localhost:8080/"
        },
        "id": "wF8xLdbrd86s",
        "outputId": "9ab82bdf-abed-4bb9-9c1c-ed714fdebedb"
      },
      "execution_count": 10,
      "outputs": [
        {
          "output_type": "stream",
          "name": "stdout",
          "text": [
            "Жуки: 1.8138357147217055 Картофелины: 2.808914381037628\n"
          ]
        }
      ]
    },
    {
      "cell_type": "markdown",
      "source": [
        "Вычислим теперь выборочный коэффициент корреляции:"
      ],
      "metadata": {
        "id": "XAV8N4bdhpTT"
      }
    },
    {
      "cell_type": "code",
      "source": [
        "r = k/(D_x*D_y)\n",
        "r"
      ],
      "metadata": {
        "colab": {
          "base_uri": "https://localhost:8080/"
        },
        "id": "4ssZbkGwgYYe",
        "outputId": "18752f05-0a79-40d6-cfd7-bfc018732132"
      },
      "execution_count": 11,
      "outputs": [
        {
          "output_type": "execute_result",
          "data": {
            "text/plain": [
              "-0.03729212664043506"
            ]
          },
          "metadata": {},
          "execution_count": 11
        }
      ]
    },
    {
      "cell_type": "markdown",
      "source": [
        "Поскольку 0.04 достаточно далеко от 1, то наша гипотеза имеет основания быть отвергнутой.\n",
        "\n",
        "Т.е. колличество жуков на кусте не зависит от колличества крупных клубней на нём."
      ],
      "metadata": {
        "id": "hGkMqRn6jmdn"
      }
    },
    {
      "cell_type": "markdown",
      "source": [
        "## Задача 2"
      ],
      "metadata": {
        "id": "3l3dNrrXkTzt"
      }
    },
    {
      "cell_type": "code",
      "source": [
        "import pandas as pd\n",
        "df = pd.read_excel('sample_data/data.xls', sheet_name='Задача 2')\n",
        "df"
      ],
      "metadata": {
        "colab": {
          "base_uri": "https://localhost:8080/",
          "height": 739
        },
        "id": "AuqhvJFskXWQ",
        "outputId": "9cea5840-1d0e-407c-9ef7-8c92bd7009cb"
      },
      "execution_count": 12,
      "outputs": [
        {
          "output_type": "execute_result",
          "data": {
            "text/html": [
              "\n",
              "  <div id=\"df-42ebf49f-c064-4d29-bdb9-257ea2bf6fc3\">\n",
              "    <div class=\"colab-df-container\">\n",
              "      <div>\n",
              "<style scoped>\n",
              "    .dataframe tbody tr th:only-of-type {\n",
              "        vertical-align: middle;\n",
              "    }\n",
              "\n",
              "    .dataframe tbody tr th {\n",
              "        vertical-align: top;\n",
              "    }\n",
              "\n",
              "    .dataframe thead th {\n",
              "        text-align: right;\n",
              "    }\n",
              "</style>\n",
              "<table border=\"1\" class=\"dataframe\">\n",
              "  <thead>\n",
              "    <tr style=\"text-align: right;\">\n",
              "      <th></th>\n",
              "      <th>Unnamed: 0</th>\n",
              "      <th>Бег, 100м (сек)</th>\n",
              "      <th>Толкание ядра, м</th>\n",
              "    </tr>\n",
              "  </thead>\n",
              "  <tbody>\n",
              "    <tr>\n",
              "      <th>0</th>\n",
              "      <td>Cedric DUBLER</td>\n",
              "      <td>10.75</td>\n",
              "      <td>12.43</td>\n",
              "    </tr>\n",
              "    <tr>\n",
              "      <th>1</th>\n",
              "      <td>Damian WARNER</td>\n",
              "      <td>10.35</td>\n",
              "      <td>14.97</td>\n",
              "    </tr>\n",
              "    <tr>\n",
              "      <th>2</th>\n",
              "      <td>Devon WILLIAMS</td>\n",
              "      <td>10.84</td>\n",
              "      <td>13.76</td>\n",
              "    </tr>\n",
              "    <tr>\n",
              "      <th>3</th>\n",
              "      <td>Fredrik SAMUELSSON</td>\n",
              "      <td>11.13</td>\n",
              "      <td>13.97</td>\n",
              "    </tr>\n",
              "    <tr>\n",
              "      <th>4</th>\n",
              "      <td>Georni JARAMILLO</td>\n",
              "      <td>10.88</td>\n",
              "      <td>15.42</td>\n",
              "    </tr>\n",
              "    <tr>\n",
              "      <th>5</th>\n",
              "      <td>Harrison WILLIAMS</td>\n",
              "      <td>10.76</td>\n",
              "      <td>13.78</td>\n",
              "    </tr>\n",
              "    <tr>\n",
              "      <th>6</th>\n",
              "      <td>Ilya SHKURENYOV</td>\n",
              "      <td>11.02</td>\n",
              "      <td>14.71</td>\n",
              "    </tr>\n",
              "    <tr>\n",
              "      <th>7</th>\n",
              "      <td>Janek ÕIGLANE</td>\n",
              "      <td>10.94</td>\n",
              "      <td>15.20</td>\n",
              "    </tr>\n",
              "    <tr>\n",
              "      <th>8</th>\n",
              "      <td>Kai KAZMIREK</td>\n",
              "      <td>10.82</td>\n",
              "      <td>14.30</td>\n",
              "    </tr>\n",
              "    <tr>\n",
              "      <th>9</th>\n",
              "      <td>Keisuke USHIRO</td>\n",
              "      <td>11.44</td>\n",
              "      <td>14.31</td>\n",
              "    </tr>\n",
              "    <tr>\n",
              "      <th>10</th>\n",
              "      <td>Kevin MAYER</td>\n",
              "      <td>10.50</td>\n",
              "      <td>16.82</td>\n",
              "    </tr>\n",
              "    <tr>\n",
              "      <th>11</th>\n",
              "      <td>Lindon VICTOR</td>\n",
              "      <td>10.66</td>\n",
              "      <td>16.24</td>\n",
              "    </tr>\n",
              "    <tr>\n",
              "      <th>12</th>\n",
              "      <td>Maicel UIBO</td>\n",
              "      <td>11.10</td>\n",
              "      <td>15.12</td>\n",
              "    </tr>\n",
              "    <tr>\n",
              "      <th>13</th>\n",
              "      <td>Martin ROE</td>\n",
              "      <td>10.94</td>\n",
              "      <td>15.08</td>\n",
              "    </tr>\n",
              "    <tr>\n",
              "      <th>14</th>\n",
              "      <td>Niklas KAUL</td>\n",
              "      <td>11.27</td>\n",
              "      <td>15.10</td>\n",
              "    </tr>\n",
              "    <tr>\n",
              "      <th>15</th>\n",
              "      <td>Paweł WIESIOŁEK</td>\n",
              "      <td>10.76</td>\n",
              "      <td>15.26</td>\n",
              "    </tr>\n",
              "    <tr>\n",
              "      <th>16</th>\n",
              "      <td>Pierce LEPAGE</td>\n",
              "      <td>10.36</td>\n",
              "      <td>13.21</td>\n",
              "    </tr>\n",
              "    <tr>\n",
              "      <th>17</th>\n",
              "      <td>Pieter BRAUN</td>\n",
              "      <td>11.16</td>\n",
              "      <td>15.26</td>\n",
              "    </tr>\n",
              "    <tr>\n",
              "      <th>18</th>\n",
              "      <td>Solomon SIMMONS</td>\n",
              "      <td>10.70</td>\n",
              "      <td>15.33</td>\n",
              "    </tr>\n",
              "    <tr>\n",
              "      <th>19</th>\n",
              "      <td>Thomas VAN DER PLAETSEN</td>\n",
              "      <td>11.38</td>\n",
              "      <td>13.78</td>\n",
              "    </tr>\n",
              "    <tr>\n",
              "      <th>20</th>\n",
              "      <td>Tim NOWAK</td>\n",
              "      <td>11.12</td>\n",
              "      <td>14.69</td>\n",
              "    </tr>\n",
              "    <tr>\n",
              "      <th>21</th>\n",
              "      <td>Vitaliy ZHUK</td>\n",
              "      <td>10.95</td>\n",
              "      <td>15.13</td>\n",
              "    </tr>\n",
              "  </tbody>\n",
              "</table>\n",
              "</div>\n",
              "      <button class=\"colab-df-convert\" onclick=\"convertToInteractive('df-42ebf49f-c064-4d29-bdb9-257ea2bf6fc3')\"\n",
              "              title=\"Convert this dataframe to an interactive table.\"\n",
              "              style=\"display:none;\">\n",
              "        \n",
              "  <svg xmlns=\"http://www.w3.org/2000/svg\" height=\"24px\"viewBox=\"0 0 24 24\"\n",
              "       width=\"24px\">\n",
              "    <path d=\"M0 0h24v24H0V0z\" fill=\"none\"/>\n",
              "    <path d=\"M18.56 5.44l.94 2.06.94-2.06 2.06-.94-2.06-.94-.94-2.06-.94 2.06-2.06.94zm-11 1L8.5 8.5l.94-2.06 2.06-.94-2.06-.94L8.5 2.5l-.94 2.06-2.06.94zm10 10l.94 2.06.94-2.06 2.06-.94-2.06-.94-.94-2.06-.94 2.06-2.06.94z\"/><path d=\"M17.41 7.96l-1.37-1.37c-.4-.4-.92-.59-1.43-.59-.52 0-1.04.2-1.43.59L10.3 9.45l-7.72 7.72c-.78.78-.78 2.05 0 2.83L4 21.41c.39.39.9.59 1.41.59.51 0 1.02-.2 1.41-.59l7.78-7.78 2.81-2.81c.8-.78.8-2.07 0-2.86zM5.41 20L4 18.59l7.72-7.72 1.47 1.35L5.41 20z\"/>\n",
              "  </svg>\n",
              "      </button>\n",
              "      \n",
              "  <style>\n",
              "    .colab-df-container {\n",
              "      display:flex;\n",
              "      flex-wrap:wrap;\n",
              "      gap: 12px;\n",
              "    }\n",
              "\n",
              "    .colab-df-convert {\n",
              "      background-color: #E8F0FE;\n",
              "      border: none;\n",
              "      border-radius: 50%;\n",
              "      cursor: pointer;\n",
              "      display: none;\n",
              "      fill: #1967D2;\n",
              "      height: 32px;\n",
              "      padding: 0 0 0 0;\n",
              "      width: 32px;\n",
              "    }\n",
              "\n",
              "    .colab-df-convert:hover {\n",
              "      background-color: #E2EBFA;\n",
              "      box-shadow: 0px 1px 2px rgba(60, 64, 67, 0.3), 0px 1px 3px 1px rgba(60, 64, 67, 0.15);\n",
              "      fill: #174EA6;\n",
              "    }\n",
              "\n",
              "    [theme=dark] .colab-df-convert {\n",
              "      background-color: #3B4455;\n",
              "      fill: #D2E3FC;\n",
              "    }\n",
              "\n",
              "    [theme=dark] .colab-df-convert:hover {\n",
              "      background-color: #434B5C;\n",
              "      box-shadow: 0px 1px 3px 1px rgba(0, 0, 0, 0.15);\n",
              "      filter: drop-shadow(0px 1px 2px rgba(0, 0, 0, 0.3));\n",
              "      fill: #FFFFFF;\n",
              "    }\n",
              "  </style>\n",
              "\n",
              "      <script>\n",
              "        const buttonEl =\n",
              "          document.querySelector('#df-42ebf49f-c064-4d29-bdb9-257ea2bf6fc3 button.colab-df-convert');\n",
              "        buttonEl.style.display =\n",
              "          google.colab.kernel.accessAllowed ? 'block' : 'none';\n",
              "\n",
              "        async function convertToInteractive(key) {\n",
              "          const element = document.querySelector('#df-42ebf49f-c064-4d29-bdb9-257ea2bf6fc3');\n",
              "          const dataTable =\n",
              "            await google.colab.kernel.invokeFunction('convertToInteractive',\n",
              "                                                     [key], {});\n",
              "          if (!dataTable) return;\n",
              "\n",
              "          const docLinkHtml = 'Like what you see? Visit the ' +\n",
              "            '<a target=\"_blank\" href=https://colab.research.google.com/notebooks/data_table.ipynb>data table notebook</a>'\n",
              "            + ' to learn more about interactive tables.';\n",
              "          element.innerHTML = '';\n",
              "          dataTable['output_type'] = 'display_data';\n",
              "          await google.colab.output.renderOutput(dataTable, element);\n",
              "          const docLink = document.createElement('div');\n",
              "          docLink.innerHTML = docLinkHtml;\n",
              "          element.appendChild(docLink);\n",
              "        }\n",
              "      </script>\n",
              "    </div>\n",
              "  </div>\n",
              "  "
            ],
            "text/plain": [
              "                 Unnamed: 0  Бег, 100м (сек)  Толкание ядра, м\n",
              "0             Cedric DUBLER            10.75             12.43\n",
              "1             Damian WARNER            10.35             14.97\n",
              "2            Devon WILLIAMS            10.84             13.76\n",
              "3        Fredrik SAMUELSSON            11.13             13.97\n",
              "4          Georni JARAMILLO            10.88             15.42\n",
              "5         Harrison WILLIAMS            10.76             13.78\n",
              "6           Ilya SHKURENYOV            11.02             14.71\n",
              "7             Janek ÕIGLANE            10.94             15.20\n",
              "8              Kai KAZMIREK            10.82             14.30\n",
              "9            Keisuke USHIRO            11.44             14.31\n",
              "10              Kevin MAYER            10.50             16.82\n",
              "11            Lindon VICTOR            10.66             16.24\n",
              "12              Maicel UIBO            11.10             15.12\n",
              "13               Martin ROE            10.94             15.08\n",
              "14              Niklas KAUL            11.27             15.10\n",
              "15          Paweł WIESIOŁEK            10.76             15.26\n",
              "16            Pierce LEPAGE            10.36             13.21\n",
              "17             Pieter BRAUN            11.16             15.26\n",
              "18          Solomon SIMMONS            10.70             15.33\n",
              "19  Thomas VAN DER PLAETSEN            11.38             13.78\n",
              "20                Tim NOWAK            11.12             14.69\n",
              "21             Vitaliy ZHUK            10.95             15.13"
            ]
          },
          "metadata": {},
          "execution_count": 12
        }
      ]
    },
    {
      "cell_type": "markdown",
      "source": [
        "Первым делом сформулируем гипотезу: Результаты бега и толчка ядра связаны, т.к. зависят от физической подготовки.\n",
        "\n",
        "Теперь найдём выборочное среднее:"
      ],
      "metadata": {
        "id": "LFNQU1hIxZHz"
      }
    },
    {
      "cell_type": "code",
      "source": [
        "run_mid = df['Бег, 100м (сек)'].sum()/df.shape[0]\n",
        "push_mid = df['Толкание ядра, м'].sum()/df.shape[0]\n",
        "print('Бег:', run_mid, 'Толкание ядра:', push_mid)"
      ],
      "metadata": {
        "colab": {
          "base_uri": "https://localhost:8080/"
        },
        "id": "PBbF1hYJlJAz",
        "outputId": "7d5a3047-9f2c-4625-ef07-c27478b0a85d"
      },
      "execution_count": 13,
      "outputs": [
        {
          "output_type": "stream",
          "name": "stdout",
          "text": [
            "Бег: 10.901363636363634 Толкание ядра: 14.721363636363636\n"
          ]
        }
      ]
    },
    {
      "cell_type": "markdown",
      "source": [
        "Теперь найдём выборочную ковариацию(повторяющихся строк нет, поэтому можно упростить формулу):"
      ],
      "metadata": {
        "id": "WjDMej7yyUjz"
      }
    },
    {
      "cell_type": "code",
      "source": [
        "k_chis = 0\n",
        "for i in range(df.shape[0]):\n",
        "  k_chis += (df['Бег, 100м (сек)'][i] - run_mid)*(df['Толкание ядра, м'][i] - push_mid)\n",
        "k = k_chis/df.shape[0]\n",
        "k"
      ],
      "metadata": {
        "colab": {
          "base_uri": "https://localhost:8080/"
        },
        "id": "QDCYgERzyX6g",
        "outputId": "88ec4ce3-a77b-40ab-c7da-97d9a44f34b0"
      },
      "execution_count": 14,
      "outputs": [
        {
          "output_type": "execute_result",
          "data": {
            "text/plain": [
              "-0.02772913223140502"
            ]
          },
          "metadata": {},
          "execution_count": 14
        }
      ]
    },
    {
      "cell_type": "markdown",
      "source": [
        "Найдем выборочные средние квадратические отклонения:"
      ],
      "metadata": {
        "id": "kZCJlH7Oympa"
      }
    },
    {
      "cell_type": "code",
      "source": [
        "x = y = 0\n",
        "for i in range(df.shape[0]):\n",
        "  x += (df['Бег, 100м (сек)'][i] - run_mid)**2\n",
        "D_x = (x/df.shape[0])**(1/2)\n",
        "for i in range(df.shape[0]):\n",
        "  y += (df['Толкание ядра, м'][i] - push_mid)**2\n",
        "D_y = (y/df.shape[0])**(1/2)\n",
        "print('Бег:', D_x, 'Толкание ядра:', D_y)"
      ],
      "metadata": {
        "colab": {
          "base_uri": "https://localhost:8080/"
        },
        "id": "4BRuCBkPyrM2",
        "outputId": "41009677-53cb-4c29-d90c-7bd32d73c082"
      },
      "execution_count": 15,
      "outputs": [
        {
          "output_type": "stream",
          "name": "stdout",
          "text": [
            "Бег: 0.2869636570994101 Толкание ядра: 0.9577829297371444\n"
          ]
        }
      ]
    },
    {
      "cell_type": "markdown",
      "source": [
        "Вычислим теперь выборочный коэффициент корреляции:"
      ],
      "metadata": {
        "id": "9YkB_Hpzy-fL"
      }
    },
    {
      "cell_type": "code",
      "source": [
        "r = k/(D_x*D_y)\n",
        "r"
      ],
      "metadata": {
        "colab": {
          "base_uri": "https://localhost:8080/"
        },
        "id": "zisRHpVwzFBv",
        "outputId": "650ff624-5783-4cff-cff9-147287712d25"
      },
      "execution_count": 16,
      "outputs": [
        {
          "output_type": "execute_result",
          "data": {
            "text/plain": [
              "-0.10088864469109617"
            ]
          },
          "metadata": {},
          "execution_count": 16
        }
      ]
    },
    {
      "cell_type": "markdown",
      "source": [
        "Поскольку 0.1 достаточно далеко от 1, то наша гипотеза имеет основания быть отвергнутой.\n",
        "\n",
        "Т.е. результаты по бегу не зависят от результатов по толканию ядра."
      ],
      "metadata": {
        "id": "7Xx3_CiizKHq"
      }
    }
  ]
}